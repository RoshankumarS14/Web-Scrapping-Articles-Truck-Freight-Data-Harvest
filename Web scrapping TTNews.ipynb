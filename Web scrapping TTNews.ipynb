{
 "cells": [
  {
   "cell_type": "code",
   "execution_count": 1,
   "metadata": {},
   "outputs": [],
   "source": [
    "import numpy as np\n",
    "import pandas as pd\n",
    "import requests\n",
    "from bs4 import BeautifulSoup\n",
    "from tqdm import tqdm"
   ]
  },
  {
   "cell_type": "markdown",
   "metadata": {},
   "source": [
    "### Scrape Headlines, Link and content"
   ]
  },
  {
   "cell_type": "code",
   "execution_count": 66,
   "metadata": {},
   "outputs": [],
   "source": [
    "# Define the URL of the website\n",
    "url = 'https://www.ttnews.com/logistics?page='\n",
    "\n",
    "page_headings = []\n",
    "\n",
    "for page in range(2):\n",
    "\n",
    "    # Send a GET request to the website\n",
    "    response = requests.get(url+str(page))\n",
    "\n",
    "    # Parse the HTML content of the page with BeautifulSoup\n",
    "    soup = BeautifulSoup(response.text, 'html.parser')\n",
    "\n",
    "    # Find all headline elements\n",
    "    # You may need to inspect the website and update the tag and class accordingly\n",
    "    headlines = soup.find_all(['h2'])\n",
    "\n",
    "    page_headings.append(headlines)"
   ]
  },
  {
   "cell_type": "code",
   "execution_count": 67,
   "metadata": {},
   "outputs": [],
   "source": [
    "links=[]\n",
    "for headlines in page_headings:\n",
    "    for headline in headlines:\n",
    "        try:\n",
    "            links.append(headline.a[\"href\"])\n",
    "        except:\n",
    "            links.append(None)"
   ]
  },
  {
   "cell_type": "code",
   "execution_count": 68,
   "metadata": {},
   "outputs": [],
   "source": [
    "news_headlines = []\n",
    "for headlines in page_headings:\n",
    "    for headline in headlines:\n",
    "        news_headlines.append(headline.text.strip())"
   ]
  },
  {
   "cell_type": "code",
   "execution_count": 69,
   "metadata": {},
   "outputs": [
    {
     "data": {
      "text/html": [
       "<div>\n",
       "<style scoped>\n",
       "    .dataframe tbody tr th:only-of-type {\n",
       "        vertical-align: middle;\n",
       "    }\n",
       "\n",
       "    .dataframe tbody tr th {\n",
       "        vertical-align: top;\n",
       "    }\n",
       "\n",
       "    .dataframe thead th {\n",
       "        text-align: right;\n",
       "    }\n",
       "</style>\n",
       "<table border=\"1\" class=\"dataframe\">\n",
       "  <thead>\n",
       "    <tr style=\"text-align: right;\">\n",
       "      <th></th>\n",
       "      <th>Headlines</th>\n",
       "      <th>URL</th>\n",
       "    </tr>\n",
       "  </thead>\n",
       "  <tbody>\n",
       "    <tr>\n",
       "      <th>1</th>\n",
       "      <td>Update: XPO Spends $870 Million for Yellow Pro...</td>\n",
       "      <td>https://www.ttnews.com/videos/update-xpo-spend...</td>\n",
       "    </tr>\n",
       "    <tr>\n",
       "      <th>2</th>\n",
       "      <td>Daily Briefings from Transport Topics</td>\n",
       "      <td>https://www.ttnews.com/listen</td>\n",
       "    </tr>\n",
       "    <tr>\n",
       "      <th>3</th>\n",
       "      <td>Breaking: Brad Jacobs' Bold Billion Dollar Move</td>\n",
       "      <td>https://www.ttnews.com/videos/breaking-brad-ja...</td>\n",
       "    </tr>\n",
       "    <tr>\n",
       "      <th>4</th>\n",
       "      <td>DHL Express Workers Strike at Cincinnati Air C...</td>\n",
       "      <td>https://www.ttnews.com/articles/dhl-express-st...</td>\n",
       "    </tr>\n",
       "    <tr>\n",
       "      <th>5</th>\n",
       "      <td>Dark Horse Bidder Makes Second Offer for Yello...</td>\n",
       "      <td>https://www.ttnews.com/articles/yellow-rejects...</td>\n",
       "    </tr>\n",
       "    <tr>\n",
       "      <th>6</th>\n",
       "      <td>Ryder Reveals First Two Companies in EV Fleet ...</td>\n",
       "      <td>https://www.ttnews.com/articles/ryder-two-comp...</td>\n",
       "    </tr>\n",
       "    <tr>\n",
       "      <th>7</th>\n",
       "      <td>US-Mexico Trade Trends Indicate Nearshoring Ha...</td>\n",
       "      <td>https://www.ttnews.com/articles/nearshoring-ha...</td>\n",
       "    </tr>\n",
       "    <tr>\n",
       "      <th>8</th>\n",
       "      <td>Uber Freight and Torc Robotics Form Partnershi...</td>\n",
       "      <td>https://www.ttnews.com/articles/torc-uber-frei...</td>\n",
       "    </tr>\n",
       "    <tr>\n",
       "      <th>9</th>\n",
       "      <td>Vermont Lowers Cost of Milk Hauler Overweight ...</td>\n",
       "      <td>https://www.ttnews.com/articles/vermont-costs-...</td>\n",
       "    </tr>\n",
       "    <tr>\n",
       "      <th>10</th>\n",
       "      <td>Recruiting and Retaining Drivers Remains a Cha...</td>\n",
       "      <td>https://www.ttnews.com/articles/retaining-driv...</td>\n",
       "    </tr>\n",
       "    <tr>\n",
       "      <th>11</th>\n",
       "      <td>Axle Logistics Invests $37.9 Million to Expand...</td>\n",
       "      <td>https://www.ttnews.com/articles/axle-logistics...</td>\n",
       "    </tr>\n",
       "    <tr>\n",
       "      <th>14</th>\n",
       "      <td>GXO Logistics Testing Humanoid Robot at Georgi...</td>\n",
       "      <td>https://www.ttnews.com/articles/gxo-logistics-...</td>\n",
       "    </tr>\n",
       "    <tr>\n",
       "      <th>15</th>\n",
       "      <td>Daily Briefings from Transport Topics</td>\n",
       "      <td>https://www.ttnews.com/listen</td>\n",
       "    </tr>\n",
       "    <tr>\n",
       "      <th>16</th>\n",
       "      <td>California-based Logistics Company Expands in ...</td>\n",
       "      <td>https://www.ttnews.com/articles/ironlink-logis...</td>\n",
       "    </tr>\n",
       "    <tr>\n",
       "      <th>17</th>\n",
       "      <td>XPO In Line for 28 Yellow Properties for $870 ...</td>\n",
       "      <td>https://www.ttnews.com/articles/xpo-yellow-ter...</td>\n",
       "    </tr>\n",
       "    <tr>\n",
       "      <th>18</th>\n",
       "      <td>USDOT Announces $1.5 Billion in Infrastructure...</td>\n",
       "      <td>https://www.ttnews.com/articles/usdot-infrastr...</td>\n",
       "    </tr>\n",
       "    <tr>\n",
       "      <th>19</th>\n",
       "      <td>Georgia Officials Laud Plastic Express Expansi...</td>\n",
       "      <td>https://www.ttnews.com/articles/georgia-plasti...</td>\n",
       "    </tr>\n",
       "    <tr>\n",
       "      <th>20</th>\n",
       "      <td>Virginia Wins $59.9 Million Logistics Expansio...</td>\n",
       "      <td>https://www.ttnews.com/articles/virginia-logis...</td>\n",
       "    </tr>\n",
       "    <tr>\n",
       "      <th>21</th>\n",
       "      <td>Illinois 3 Connector Plan Gets Mixed Reception...</td>\n",
       "      <td>https://www.ttnews.com/articles/illinois-3-con...</td>\n",
       "    </tr>\n",
       "    <tr>\n",
       "      <th>22</th>\n",
       "      <td>Canada Cartage Acquires GTI Group</td>\n",
       "      <td>https://www.ttnews.com/articles/canada-cartage...</td>\n",
       "    </tr>\n",
       "    <tr>\n",
       "      <th>23</th>\n",
       "      <td>NYC Congestion Plan Would Charge Business Dist...</td>\n",
       "      <td>https://www.ttnews.com/articles/nyc-congestion...</td>\n",
       "    </tr>\n",
       "    <tr>\n",
       "      <th>24</th>\n",
       "      <td>Atlanta Joins Top Tier of Global Supply Chain ...</td>\n",
       "      <td>https://www.ttnews.com/articles/atlanta-supply...</td>\n",
       "    </tr>\n",
       "  </tbody>\n",
       "</table>\n",
       "</div>"
      ],
      "text/plain": [
       "                                            Headlines  \\\n",
       "1   Update: XPO Spends $870 Million for Yellow Pro...   \n",
       "2               Daily Briefings from Transport Topics   \n",
       "3     Breaking: Brad Jacobs' Bold Billion Dollar Move   \n",
       "4   DHL Express Workers Strike at Cincinnati Air C...   \n",
       "5   Dark Horse Bidder Makes Second Offer for Yello...   \n",
       "6   Ryder Reveals First Two Companies in EV Fleet ...   \n",
       "7   US-Mexico Trade Trends Indicate Nearshoring Ha...   \n",
       "8   Uber Freight and Torc Robotics Form Partnershi...   \n",
       "9   Vermont Lowers Cost of Milk Hauler Overweight ...   \n",
       "10  Recruiting and Retaining Drivers Remains a Cha...   \n",
       "11  Axle Logistics Invests $37.9 Million to Expand...   \n",
       "14  GXO Logistics Testing Humanoid Robot at Georgi...   \n",
       "15              Daily Briefings from Transport Topics   \n",
       "16  California-based Logistics Company Expands in ...   \n",
       "17  XPO In Line for 28 Yellow Properties for $870 ...   \n",
       "18  USDOT Announces $1.5 Billion in Infrastructure...   \n",
       "19  Georgia Officials Laud Plastic Express Expansi...   \n",
       "20  Virginia Wins $59.9 Million Logistics Expansio...   \n",
       "21  Illinois 3 Connector Plan Gets Mixed Reception...   \n",
       "22                  Canada Cartage Acquires GTI Group   \n",
       "23  NYC Congestion Plan Would Charge Business Dist...   \n",
       "24  Atlanta Joins Top Tier of Global Supply Chain ...   \n",
       "\n",
       "                                                  URL  \n",
       "1   https://www.ttnews.com/videos/update-xpo-spend...  \n",
       "2                       https://www.ttnews.com/listen  \n",
       "3   https://www.ttnews.com/videos/breaking-brad-ja...  \n",
       "4   https://www.ttnews.com/articles/dhl-express-st...  \n",
       "5   https://www.ttnews.com/articles/yellow-rejects...  \n",
       "6   https://www.ttnews.com/articles/ryder-two-comp...  \n",
       "7   https://www.ttnews.com/articles/nearshoring-ha...  \n",
       "8   https://www.ttnews.com/articles/torc-uber-frei...  \n",
       "9   https://www.ttnews.com/articles/vermont-costs-...  \n",
       "10  https://www.ttnews.com/articles/retaining-driv...  \n",
       "11  https://www.ttnews.com/articles/axle-logistics...  \n",
       "14  https://www.ttnews.com/articles/gxo-logistics-...  \n",
       "15                      https://www.ttnews.com/listen  \n",
       "16  https://www.ttnews.com/articles/ironlink-logis...  \n",
       "17  https://www.ttnews.com/articles/xpo-yellow-ter...  \n",
       "18  https://www.ttnews.com/articles/usdot-infrastr...  \n",
       "19  https://www.ttnews.com/articles/georgia-plasti...  \n",
       "20  https://www.ttnews.com/articles/virginia-logis...  \n",
       "21  https://www.ttnews.com/articles/illinois-3-con...  \n",
       "22  https://www.ttnews.com/articles/canada-cartage...  \n",
       "23  https://www.ttnews.com/articles/nyc-congestion...  \n",
       "24  https://www.ttnews.com/articles/atlanta-supply...  "
      ]
     },
     "execution_count": 69,
     "metadata": {},
     "output_type": "execute_result"
    }
   ],
   "source": [
    "df = pd.DataFrame({\"Headlines\":news_headlines,\"URL\":links}).dropna()\n",
    "df[\"Headlines\"] = df[\"Headlines\"].apply(lambda a : None if a.count(\"Podcasts\")!=0 else a)\n",
    "df.dropna(inplace=True)\n",
    "df[\"URL\"] = \"https://www.ttnews.com\"+df[\"URL\"]\n",
    "df.to_csv(\"Logistics.csv\")\n",
    "df"
   ]
  },
  {
   "cell_type": "code",
   "execution_count": 36,
   "metadata": {},
   "outputs": [
    {
     "name": "stderr",
     "output_type": "stream",
     "text": [
      "100%|██████████| 30/30 [00:14<00:00,  2.06it/s]\n"
     ]
    }
   ],
   "source": [
    "content = []\n",
    "\n",
    "for index in tqdm(df.index):\n",
    "\n",
    "    # Send a GET request to the website\n",
    "    response = requests.get(df.loc[index,\"URL\"])\n",
    "\n",
    "    # Parse the HTML content of the page with BeautifulSoup\n",
    "    soup = BeautifulSoup(response.text, 'html.parser')\n",
    "\n",
    "    # Find all headline elements\n",
    "    # You may need to inspect the website and update the tag and class accordingly\n",
    "    paragraphs = soup.find_all(['p'])\n",
    "\n",
    "    para = df.loc[index,\"Headlines\"].upper()\n",
    "    for paragraph in paragraphs:\n",
    "        para = para + paragraph.text.strip()\n",
    "    para.replace(\"\\n\",\"|\")\n",
    "\n",
    "    content.append(para)"
   ]
  },
  {
   "cell_type": "code",
   "execution_count": 39,
   "metadata": {},
   "outputs": [],
   "source": [
    "news = [i.replace('\\n', '|') for i in content]"
   ]
  },
  {
   "cell_type": "code",
   "execution_count": 40,
   "metadata": {},
   "outputs": [
    {
     "data": {
      "text/plain": [
       "''"
      ]
     },
     "execution_count": 40,
     "metadata": {},
     "output_type": "execute_result"
    }
   ],
   "source": [
    "from fpdf import FPDF\n",
    "\n",
    "news = \"\\n\\n\".join(news)\n",
    "\n",
    "# Create instance of FPDF class\n",
    "pdf = FPDF()\n",
    "\n",
    "# Add a page\n",
    "pdf.add_page()\n",
    "\n",
    "# Set font\n",
    "pdf.set_font('Arial', '', 12)\n",
    "\n",
    "# Split the string into smaller chunks\n",
    "chunk_size = 500  # Define the size of each chunk\n",
    "chunks = [news[i:i+chunk_size] for i in range(0, len(news), chunk_size)]\n",
    "\n",
    "# Add each chunk to the PDF\n",
    "for chunk in chunks:\n",
    "    pdf.multi_cell(0, 10, chunk.encode('latin-1', 'replace').decode('latin-1'))\n",
    "    pdf.ln(10)  # Add a line break after each chunk\n",
    "\n",
    "# Save the pdf with name .pdf\n",
    "pdf.output('Government.pdf', 'F')"
   ]
  },
  {
   "cell_type": "code",
   "execution_count": 26,
   "metadata": {},
   "outputs": [
    {
     "data": {
      "text/plain": [
       "1456505"
      ]
     },
     "execution_count": 26,
     "metadata": {},
     "output_type": "execute_result"
    }
   ],
   "source": [
    "len(\"\\n\\n\".join(content))"
   ]
  },
  {
   "cell_type": "code",
   "execution_count": 128,
   "metadata": {},
   "outputs": [],
   "source": [
    "df[\"Content\"] = content\n",
    "df['Content'] = df['Content'].str.replace('\\n', '|', regex=False)"
   ]
  },
  {
   "cell_type": "code",
   "execution_count": 108,
   "metadata": {},
   "outputs": [
    {
     "name": "stderr",
     "output_type": "stream",
     "text": [
      "  7%|▋         | 7/100 [00:05<01:11,  1.30it/s]\n"
     ]
    },
    {
     "ename": "KeyboardInterrupt",
     "evalue": "",
     "output_type": "error",
     "traceback": [
      "\u001b[1;31m---------------------------------------------------------------------------\u001b[0m",
      "\u001b[1;31mKeyboardInterrupt\u001b[0m                         Traceback (most recent call last)",
      "\u001b[1;32md:\\Freelancing\\Webscrapping websites\\Web scrapping TTNews.ipynb Cell 9\u001b[0m line \u001b[0;36m<cell line: 6>\u001b[1;34m()\u001b[0m\n\u001b[0;32m      <a href='vscode-notebook-cell:/d%3A/Freelancing/Webscrapping%20websites/Web%20scrapping%20TTNews.ipynb#W4sZmlsZQ%3D%3D?line=3'>4</a>\u001b[0m page_headings \u001b[39m=\u001b[39m []\n\u001b[0;32m      <a href='vscode-notebook-cell:/d%3A/Freelancing/Webscrapping%20websites/Web%20scrapping%20TTNews.ipynb#W4sZmlsZQ%3D%3D?line=5'>6</a>\u001b[0m \u001b[39mfor\u001b[39;00m page \u001b[39min\u001b[39;00m tqdm(\u001b[39mrange\u001b[39m(\u001b[39m100\u001b[39m)):\n\u001b[0;32m      <a href='vscode-notebook-cell:/d%3A/Freelancing/Webscrapping%20websites/Web%20scrapping%20TTNews.ipynb#W4sZmlsZQ%3D%3D?line=6'>7</a>\u001b[0m \n\u001b[0;32m      <a href='vscode-notebook-cell:/d%3A/Freelancing/Webscrapping%20websites/Web%20scrapping%20TTNews.ipynb#W4sZmlsZQ%3D%3D?line=7'>8</a>\u001b[0m     \u001b[39m# Send a GET request to the website\u001b[39;00m\n\u001b[1;32m----> <a href='vscode-notebook-cell:/d%3A/Freelancing/Webscrapping%20websites/Web%20scrapping%20TTNews.ipynb#W4sZmlsZQ%3D%3D?line=8'>9</a>\u001b[0m     response \u001b[39m=\u001b[39m requests\u001b[39m.\u001b[39;49mget(url\u001b[39m+\u001b[39;49m\u001b[39mstr\u001b[39;49m(page))\n\u001b[0;32m     <a href='vscode-notebook-cell:/d%3A/Freelancing/Webscrapping%20websites/Web%20scrapping%20TTNews.ipynb#W4sZmlsZQ%3D%3D?line=10'>11</a>\u001b[0m     \u001b[39m# Parse the HTML content of the page with BeautifulSoup\u001b[39;00m\n\u001b[0;32m     <a href='vscode-notebook-cell:/d%3A/Freelancing/Webscrapping%20websites/Web%20scrapping%20TTNews.ipynb#W4sZmlsZQ%3D%3D?line=11'>12</a>\u001b[0m     soup \u001b[39m=\u001b[39m BeautifulSoup(response\u001b[39m.\u001b[39mtext, \u001b[39m'\u001b[39m\u001b[39mhtml.parser\u001b[39m\u001b[39m'\u001b[39m)\n",
      "File \u001b[1;32md:\\PGP-DSE\\Python\\Anaconda\\lib\\site-packages\\requests\\api.py:73\u001b[0m, in \u001b[0;36mget\u001b[1;34m(url, params, **kwargs)\u001b[0m\n\u001b[0;32m     62\u001b[0m \u001b[39mdef\u001b[39;00m \u001b[39mget\u001b[39m(url, params\u001b[39m=\u001b[39m\u001b[39mNone\u001b[39;00m, \u001b[39m*\u001b[39m\u001b[39m*\u001b[39mkwargs):\n\u001b[0;32m     63\u001b[0m \u001b[39m    \u001b[39m\u001b[39mr\u001b[39m\u001b[39m\"\"\"Sends a GET request.\u001b[39;00m\n\u001b[0;32m     64\u001b[0m \n\u001b[0;32m     65\u001b[0m \u001b[39m    :param url: URL for the new :class:`Request` object.\u001b[39;00m\n\u001b[1;32m   (...)\u001b[0m\n\u001b[0;32m     70\u001b[0m \u001b[39m    :rtype: requests.Response\u001b[39;00m\n\u001b[0;32m     71\u001b[0m \u001b[39m    \"\"\"\u001b[39;00m\n\u001b[1;32m---> 73\u001b[0m     \u001b[39mreturn\u001b[39;00m request(\u001b[39m\"\u001b[39m\u001b[39mget\u001b[39m\u001b[39m\"\u001b[39m, url, params\u001b[39m=\u001b[39mparams, \u001b[39m*\u001b[39m\u001b[39m*\u001b[39mkwargs)\n",
      "File \u001b[1;32md:\\PGP-DSE\\Python\\Anaconda\\lib\\site-packages\\requests\\api.py:59\u001b[0m, in \u001b[0;36mrequest\u001b[1;34m(method, url, **kwargs)\u001b[0m\n\u001b[0;32m     55\u001b[0m \u001b[39m# By using the 'with' statement we are sure the session is closed, thus we\u001b[39;00m\n\u001b[0;32m     56\u001b[0m \u001b[39m# avoid leaving sockets open which can trigger a ResourceWarning in some\u001b[39;00m\n\u001b[0;32m     57\u001b[0m \u001b[39m# cases, and look like a memory leak in others.\u001b[39;00m\n\u001b[0;32m     58\u001b[0m \u001b[39mwith\u001b[39;00m sessions\u001b[39m.\u001b[39mSession() \u001b[39mas\u001b[39;00m session:\n\u001b[1;32m---> 59\u001b[0m     \u001b[39mreturn\u001b[39;00m session\u001b[39m.\u001b[39mrequest(method\u001b[39m=\u001b[39mmethod, url\u001b[39m=\u001b[39murl, \u001b[39m*\u001b[39m\u001b[39m*\u001b[39mkwargs)\n",
      "File \u001b[1;32md:\\PGP-DSE\\Python\\Anaconda\\lib\\site-packages\\requests\\sessions.py:589\u001b[0m, in \u001b[0;36mSession.request\u001b[1;34m(self, method, url, params, data, headers, cookies, files, auth, timeout, allow_redirects, proxies, hooks, stream, verify, cert, json)\u001b[0m\n\u001b[0;32m    584\u001b[0m send_kwargs \u001b[39m=\u001b[39m {\n\u001b[0;32m    585\u001b[0m     \u001b[39m\"\u001b[39m\u001b[39mtimeout\u001b[39m\u001b[39m\"\u001b[39m: timeout,\n\u001b[0;32m    586\u001b[0m     \u001b[39m\"\u001b[39m\u001b[39mallow_redirects\u001b[39m\u001b[39m\"\u001b[39m: allow_redirects,\n\u001b[0;32m    587\u001b[0m }\n\u001b[0;32m    588\u001b[0m send_kwargs\u001b[39m.\u001b[39mupdate(settings)\n\u001b[1;32m--> 589\u001b[0m resp \u001b[39m=\u001b[39m \u001b[39mself\u001b[39m\u001b[39m.\u001b[39msend(prep, \u001b[39m*\u001b[39m\u001b[39m*\u001b[39msend_kwargs)\n\u001b[0;32m    591\u001b[0m \u001b[39mreturn\u001b[39;00m resp\n",
      "File \u001b[1;32md:\\PGP-DSE\\Python\\Anaconda\\lib\\site-packages\\requests\\sessions.py:703\u001b[0m, in \u001b[0;36mSession.send\u001b[1;34m(self, request, **kwargs)\u001b[0m\n\u001b[0;32m    700\u001b[0m start \u001b[39m=\u001b[39m preferred_clock()\n\u001b[0;32m    702\u001b[0m \u001b[39m# Send the request\u001b[39;00m\n\u001b[1;32m--> 703\u001b[0m r \u001b[39m=\u001b[39m adapter\u001b[39m.\u001b[39msend(request, \u001b[39m*\u001b[39m\u001b[39m*\u001b[39mkwargs)\n\u001b[0;32m    705\u001b[0m \u001b[39m# Total elapsed time of the request (approximately)\u001b[39;00m\n\u001b[0;32m    706\u001b[0m elapsed \u001b[39m=\u001b[39m preferred_clock() \u001b[39m-\u001b[39m start\n",
      "File \u001b[1;32md:\\PGP-DSE\\Python\\Anaconda\\lib\\site-packages\\requests\\adapters.py:486\u001b[0m, in \u001b[0;36mHTTPAdapter.send\u001b[1;34m(self, request, stream, timeout, verify, cert, proxies)\u001b[0m\n\u001b[0;32m    483\u001b[0m     timeout \u001b[39m=\u001b[39m TimeoutSauce(connect\u001b[39m=\u001b[39mtimeout, read\u001b[39m=\u001b[39mtimeout)\n\u001b[0;32m    485\u001b[0m \u001b[39mtry\u001b[39;00m:\n\u001b[1;32m--> 486\u001b[0m     resp \u001b[39m=\u001b[39m conn\u001b[39m.\u001b[39;49murlopen(\n\u001b[0;32m    487\u001b[0m         method\u001b[39m=\u001b[39;49mrequest\u001b[39m.\u001b[39;49mmethod,\n\u001b[0;32m    488\u001b[0m         url\u001b[39m=\u001b[39;49murl,\n\u001b[0;32m    489\u001b[0m         body\u001b[39m=\u001b[39;49mrequest\u001b[39m.\u001b[39;49mbody,\n\u001b[0;32m    490\u001b[0m         headers\u001b[39m=\u001b[39;49mrequest\u001b[39m.\u001b[39;49mheaders,\n\u001b[0;32m    491\u001b[0m         redirect\u001b[39m=\u001b[39;49m\u001b[39mFalse\u001b[39;49;00m,\n\u001b[0;32m    492\u001b[0m         assert_same_host\u001b[39m=\u001b[39;49m\u001b[39mFalse\u001b[39;49;00m,\n\u001b[0;32m    493\u001b[0m         preload_content\u001b[39m=\u001b[39;49m\u001b[39mFalse\u001b[39;49;00m,\n\u001b[0;32m    494\u001b[0m         decode_content\u001b[39m=\u001b[39;49m\u001b[39mFalse\u001b[39;49;00m,\n\u001b[0;32m    495\u001b[0m         retries\u001b[39m=\u001b[39;49m\u001b[39mself\u001b[39;49m\u001b[39m.\u001b[39;49mmax_retries,\n\u001b[0;32m    496\u001b[0m         timeout\u001b[39m=\u001b[39;49mtimeout,\n\u001b[0;32m    497\u001b[0m         chunked\u001b[39m=\u001b[39;49mchunked,\n\u001b[0;32m    498\u001b[0m     )\n\u001b[0;32m    500\u001b[0m \u001b[39mexcept\u001b[39;00m (ProtocolError, \u001b[39mOSError\u001b[39;00m) \u001b[39mas\u001b[39;00m err:\n\u001b[0;32m    501\u001b[0m     \u001b[39mraise\u001b[39;00m \u001b[39mConnectionError\u001b[39;00m(err, request\u001b[39m=\u001b[39mrequest)\n",
      "File \u001b[1;32md:\\PGP-DSE\\Python\\Anaconda\\lib\\site-packages\\urllib3\\connectionpool.py:703\u001b[0m, in \u001b[0;36mHTTPConnectionPool.urlopen\u001b[1;34m(self, method, url, body, headers, retries, redirect, assert_same_host, timeout, pool_timeout, release_conn, chunked, body_pos, **response_kw)\u001b[0m\n\u001b[0;32m    700\u001b[0m     \u001b[39mself\u001b[39m\u001b[39m.\u001b[39m_prepare_proxy(conn)\n\u001b[0;32m    702\u001b[0m \u001b[39m# Make the request on the httplib connection object.\u001b[39;00m\n\u001b[1;32m--> 703\u001b[0m httplib_response \u001b[39m=\u001b[39m \u001b[39mself\u001b[39;49m\u001b[39m.\u001b[39;49m_make_request(\n\u001b[0;32m    704\u001b[0m     conn,\n\u001b[0;32m    705\u001b[0m     method,\n\u001b[0;32m    706\u001b[0m     url,\n\u001b[0;32m    707\u001b[0m     timeout\u001b[39m=\u001b[39;49mtimeout_obj,\n\u001b[0;32m    708\u001b[0m     body\u001b[39m=\u001b[39;49mbody,\n\u001b[0;32m    709\u001b[0m     headers\u001b[39m=\u001b[39;49mheaders,\n\u001b[0;32m    710\u001b[0m     chunked\u001b[39m=\u001b[39;49mchunked,\n\u001b[0;32m    711\u001b[0m )\n\u001b[0;32m    713\u001b[0m \u001b[39m# If we're going to release the connection in ``finally:``, then\u001b[39;00m\n\u001b[0;32m    714\u001b[0m \u001b[39m# the response doesn't need to know about the connection. Otherwise\u001b[39;00m\n\u001b[0;32m    715\u001b[0m \u001b[39m# it will also try to release it and we'll have a double-release\u001b[39;00m\n\u001b[0;32m    716\u001b[0m \u001b[39m# mess.\u001b[39;00m\n\u001b[0;32m    717\u001b[0m response_conn \u001b[39m=\u001b[39m conn \u001b[39mif\u001b[39;00m \u001b[39mnot\u001b[39;00m release_conn \u001b[39melse\u001b[39;00m \u001b[39mNone\u001b[39;00m\n",
      "File \u001b[1;32md:\\PGP-DSE\\Python\\Anaconda\\lib\\site-packages\\urllib3\\connectionpool.py:449\u001b[0m, in \u001b[0;36mHTTPConnectionPool._make_request\u001b[1;34m(self, conn, method, url, timeout, chunked, **httplib_request_kw)\u001b[0m\n\u001b[0;32m    444\u001b[0m             httplib_response \u001b[39m=\u001b[39m conn\u001b[39m.\u001b[39mgetresponse()\n\u001b[0;32m    445\u001b[0m         \u001b[39mexcept\u001b[39;00m \u001b[39mBaseException\u001b[39;00m \u001b[39mas\u001b[39;00m e:\n\u001b[0;32m    446\u001b[0m             \u001b[39m# Remove the TypeError from the exception chain in\u001b[39;00m\n\u001b[0;32m    447\u001b[0m             \u001b[39m# Python 3 (including for exceptions like SystemExit).\u001b[39;00m\n\u001b[0;32m    448\u001b[0m             \u001b[39m# Otherwise it looks like a bug in the code.\u001b[39;00m\n\u001b[1;32m--> 449\u001b[0m             six\u001b[39m.\u001b[39;49mraise_from(e, \u001b[39mNone\u001b[39;49;00m)\n\u001b[0;32m    450\u001b[0m \u001b[39mexcept\u001b[39;00m (SocketTimeout, BaseSSLError, SocketError) \u001b[39mas\u001b[39;00m e:\n\u001b[0;32m    451\u001b[0m     \u001b[39mself\u001b[39m\u001b[39m.\u001b[39m_raise_timeout(err\u001b[39m=\u001b[39me, url\u001b[39m=\u001b[39murl, timeout_value\u001b[39m=\u001b[39mread_timeout)\n",
      "File \u001b[1;32m<string>:3\u001b[0m, in \u001b[0;36mraise_from\u001b[1;34m(value, from_value)\u001b[0m\n",
      "File \u001b[1;32md:\\PGP-DSE\\Python\\Anaconda\\lib\\site-packages\\urllib3\\connectionpool.py:444\u001b[0m, in \u001b[0;36mHTTPConnectionPool._make_request\u001b[1;34m(self, conn, method, url, timeout, chunked, **httplib_request_kw)\u001b[0m\n\u001b[0;32m    441\u001b[0m \u001b[39mexcept\u001b[39;00m \u001b[39mTypeError\u001b[39;00m:\n\u001b[0;32m    442\u001b[0m     \u001b[39m# Python 3\u001b[39;00m\n\u001b[0;32m    443\u001b[0m     \u001b[39mtry\u001b[39;00m:\n\u001b[1;32m--> 444\u001b[0m         httplib_response \u001b[39m=\u001b[39m conn\u001b[39m.\u001b[39;49mgetresponse()\n\u001b[0;32m    445\u001b[0m     \u001b[39mexcept\u001b[39;00m \u001b[39mBaseException\u001b[39;00m \u001b[39mas\u001b[39;00m e:\n\u001b[0;32m    446\u001b[0m         \u001b[39m# Remove the TypeError from the exception chain in\u001b[39;00m\n\u001b[0;32m    447\u001b[0m         \u001b[39m# Python 3 (including for exceptions like SystemExit).\u001b[39;00m\n\u001b[0;32m    448\u001b[0m         \u001b[39m# Otherwise it looks like a bug in the code.\u001b[39;00m\n\u001b[0;32m    449\u001b[0m         six\u001b[39m.\u001b[39mraise_from(e, \u001b[39mNone\u001b[39;00m)\n",
      "File \u001b[1;32md:\\PGP-DSE\\Python\\Anaconda\\lib\\http\\client.py:1377\u001b[0m, in \u001b[0;36mHTTPConnection.getresponse\u001b[1;34m(self)\u001b[0m\n\u001b[0;32m   1375\u001b[0m \u001b[39mtry\u001b[39;00m:\n\u001b[0;32m   1376\u001b[0m     \u001b[39mtry\u001b[39;00m:\n\u001b[1;32m-> 1377\u001b[0m         response\u001b[39m.\u001b[39;49mbegin()\n\u001b[0;32m   1378\u001b[0m     \u001b[39mexcept\u001b[39;00m \u001b[39mConnectionError\u001b[39;00m:\n\u001b[0;32m   1379\u001b[0m         \u001b[39mself\u001b[39m\u001b[39m.\u001b[39mclose()\n",
      "File \u001b[1;32md:\\PGP-DSE\\Python\\Anaconda\\lib\\http\\client.py:320\u001b[0m, in \u001b[0;36mHTTPResponse.begin\u001b[1;34m(self)\u001b[0m\n\u001b[0;32m    318\u001b[0m \u001b[39m# read until we get a non-100 response\u001b[39;00m\n\u001b[0;32m    319\u001b[0m \u001b[39mwhile\u001b[39;00m \u001b[39mTrue\u001b[39;00m:\n\u001b[1;32m--> 320\u001b[0m     version, status, reason \u001b[39m=\u001b[39m \u001b[39mself\u001b[39;49m\u001b[39m.\u001b[39;49m_read_status()\n\u001b[0;32m    321\u001b[0m     \u001b[39mif\u001b[39;00m status \u001b[39m!=\u001b[39m CONTINUE:\n\u001b[0;32m    322\u001b[0m         \u001b[39mbreak\u001b[39;00m\n",
      "File \u001b[1;32md:\\PGP-DSE\\Python\\Anaconda\\lib\\http\\client.py:281\u001b[0m, in \u001b[0;36mHTTPResponse._read_status\u001b[1;34m(self)\u001b[0m\n\u001b[0;32m    280\u001b[0m \u001b[39mdef\u001b[39;00m \u001b[39m_read_status\u001b[39m(\u001b[39mself\u001b[39m):\n\u001b[1;32m--> 281\u001b[0m     line \u001b[39m=\u001b[39m \u001b[39mstr\u001b[39m(\u001b[39mself\u001b[39;49m\u001b[39m.\u001b[39;49mfp\u001b[39m.\u001b[39;49mreadline(_MAXLINE \u001b[39m+\u001b[39;49m \u001b[39m1\u001b[39;49m), \u001b[39m\"\u001b[39m\u001b[39miso-8859-1\u001b[39m\u001b[39m\"\u001b[39m)\n\u001b[0;32m    282\u001b[0m     \u001b[39mif\u001b[39;00m \u001b[39mlen\u001b[39m(line) \u001b[39m>\u001b[39m _MAXLINE:\n\u001b[0;32m    283\u001b[0m         \u001b[39mraise\u001b[39;00m LineTooLong(\u001b[39m\"\u001b[39m\u001b[39mstatus line\u001b[39m\u001b[39m\"\u001b[39m)\n",
      "File \u001b[1;32md:\\PGP-DSE\\Python\\Anaconda\\lib\\socket.py:704\u001b[0m, in \u001b[0;36mSocketIO.readinto\u001b[1;34m(self, b)\u001b[0m\n\u001b[0;32m    702\u001b[0m \u001b[39mwhile\u001b[39;00m \u001b[39mTrue\u001b[39;00m:\n\u001b[0;32m    703\u001b[0m     \u001b[39mtry\u001b[39;00m:\n\u001b[1;32m--> 704\u001b[0m         \u001b[39mreturn\u001b[39;00m \u001b[39mself\u001b[39;49m\u001b[39m.\u001b[39;49m_sock\u001b[39m.\u001b[39;49mrecv_into(b)\n\u001b[0;32m    705\u001b[0m     \u001b[39mexcept\u001b[39;00m timeout:\n\u001b[0;32m    706\u001b[0m         \u001b[39mself\u001b[39m\u001b[39m.\u001b[39m_timeout_occurred \u001b[39m=\u001b[39m \u001b[39mTrue\u001b[39;00m\n",
      "File \u001b[1;32md:\\PGP-DSE\\Python\\Anaconda\\lib\\ssl.py:1241\u001b[0m, in \u001b[0;36mSSLSocket.recv_into\u001b[1;34m(self, buffer, nbytes, flags)\u001b[0m\n\u001b[0;32m   1237\u001b[0m     \u001b[39mif\u001b[39;00m flags \u001b[39m!=\u001b[39m \u001b[39m0\u001b[39m:\n\u001b[0;32m   1238\u001b[0m         \u001b[39mraise\u001b[39;00m \u001b[39mValueError\u001b[39;00m(\n\u001b[0;32m   1239\u001b[0m           \u001b[39m\"\u001b[39m\u001b[39mnon-zero flags not allowed in calls to recv_into() on \u001b[39m\u001b[39m%s\u001b[39;00m\u001b[39m\"\u001b[39m \u001b[39m%\u001b[39m\n\u001b[0;32m   1240\u001b[0m           \u001b[39mself\u001b[39m\u001b[39m.\u001b[39m\u001b[39m__class__\u001b[39m)\n\u001b[1;32m-> 1241\u001b[0m     \u001b[39mreturn\u001b[39;00m \u001b[39mself\u001b[39;49m\u001b[39m.\u001b[39;49mread(nbytes, buffer)\n\u001b[0;32m   1242\u001b[0m \u001b[39melse\u001b[39;00m:\n\u001b[0;32m   1243\u001b[0m     \u001b[39mreturn\u001b[39;00m \u001b[39msuper\u001b[39m()\u001b[39m.\u001b[39mrecv_into(buffer, nbytes, flags)\n",
      "File \u001b[1;32md:\\PGP-DSE\\Python\\Anaconda\\lib\\ssl.py:1099\u001b[0m, in \u001b[0;36mSSLSocket.read\u001b[1;34m(self, len, buffer)\u001b[0m\n\u001b[0;32m   1097\u001b[0m \u001b[39mtry\u001b[39;00m:\n\u001b[0;32m   1098\u001b[0m     \u001b[39mif\u001b[39;00m buffer \u001b[39mis\u001b[39;00m \u001b[39mnot\u001b[39;00m \u001b[39mNone\u001b[39;00m:\n\u001b[1;32m-> 1099\u001b[0m         \u001b[39mreturn\u001b[39;00m \u001b[39mself\u001b[39;49m\u001b[39m.\u001b[39;49m_sslobj\u001b[39m.\u001b[39;49mread(\u001b[39mlen\u001b[39;49m, buffer)\n\u001b[0;32m   1100\u001b[0m     \u001b[39melse\u001b[39;00m:\n\u001b[0;32m   1101\u001b[0m         \u001b[39mreturn\u001b[39;00m \u001b[39mself\u001b[39m\u001b[39m.\u001b[39m_sslobj\u001b[39m.\u001b[39mread(\u001b[39mlen\u001b[39m)\n",
      "\u001b[1;31mKeyboardInterrupt\u001b[0m: "
     ]
    }
   ],
   "source": [
    "# Define the URL of the website\n",
    "url = 'https://www.ttnews.com/government?page='\n",
    "\n",
    "page_headings = []\n",
    "\n",
    "for page in tqdm(range(100)):\n",
    "\n",
    "    # Send a GET request to the website\n",
    "    response = requests.get(url+str(page))\n",
    "\n",
    "    # Parse the HTML content of the page with BeautifulSoup\n",
    "    soup = BeautifulSoup(response.text, 'html.parser')\n",
    "\n",
    "    # Find all headline elements\n",
    "    # You may need to inspect the website and update the tag and class accordingly\n",
    "    headlines = soup.find_all(['h2'])\n",
    "\n",
    "    page_headings.append(headlines)"
   ]
  },
  {
   "cell_type": "code",
   "execution_count": null,
   "metadata": {},
   "outputs": [],
   "source": [
    "government_headlines = []\n",
    "for headlines in page_headings:\n",
    "    for headline in headlines:\n",
    "        government_headlines.append(headline.text.strip())"
   ]
  },
  {
   "cell_type": "code",
   "execution_count": null,
   "metadata": {},
   "outputs": [],
   "source": [
    "government_headlines = np.where(np.array(government_headlines)!='Top Menu',government_headlines,None)\n",
    "government_headlines = np.where(np.array(government_headlines)!='Footer menu',government_headlines,None)\n",
    "government = pd.DataFrame(government_headlines,columns=[\"Headlines\"]).dropna()\n",
    "government[\"Headlines\"] = government[\"Headlines\"].apply(lambda a : None if a.count(\"Podcasts\")!=0 else a).dropna()\n",
    "government.to_csv(\"Technology.csv\")"
   ]
  },
  {
   "cell_type": "code",
   "execution_count": null,
   "metadata": {},
   "outputs": [],
   "source": [
    "# Define the URL of the website\n",
    "url = 'https://www.ttnews.com/technology?page='\n",
    "\n",
    "page_headings = []\n",
    "\n",
    "for page in tqdm(range(100)):\n",
    "\n",
    "    # Send a GET request to the website\n",
    "    response = requests.get(url+str(page))\n",
    "\n",
    "    # Parse the HTML content of the page with BeautifulSoup\n",
    "    soup = BeautifulSoup(response.text, 'html.parser')\n",
    "\n",
    "    # Find all headline elements\n",
    "    # You may need to inspect the website and update the tag and class accordingly\n",
    "    headlines = soup.find_all(['h2'])\n",
    "\n",
    "    page_headings.append(headlines)"
   ]
  },
  {
   "cell_type": "code",
   "execution_count": 13,
   "metadata": {},
   "outputs": [],
   "source": [
    "technology_headlines = []\n",
    "for headlines in page_headings:\n",
    "    for headline in headlines:\n",
    "        technology_headlines.append(headline.text.strip())"
   ]
  },
  {
   "cell_type": "code",
   "execution_count": 15,
   "metadata": {},
   "outputs": [],
   "source": [
    "technology_headlines = np.where(np.array(technology_headlines)!='Top Menu',technology_headlines,None)\n",
    "technology_headlines = np.where(np.array(technology_headlines)!='Footer menu',technology_headlines,None)\n",
    "technology = pd.DataFrame(technology_headlines,columns=[\"Headlines\"]).dropna()\n",
    "technology[\"Headlines\"] = technology[\"Headlines\"].apply(lambda a : None if a.count(\"Podcasts\")!=0 else a).dropna()\n",
    "technology.to_csv(\"Technology.csv\")"
   ]
  },
  {
   "cell_type": "code",
   "execution_count": 9,
   "metadata": {},
   "outputs": [
    {
     "name": "stderr",
     "output_type": "stream",
     "text": [
      "  0%|          | 0/100 [00:00<?, ?it/s]"
     ]
    },
    {
     "name": "stderr",
     "output_type": "stream",
     "text": [
      "100%|██████████| 100/100 [00:42<00:00,  2.36it/s]\n"
     ]
    }
   ],
   "source": [
    "# Define the URL of the website\n",
    "url = 'https://www.ttnews.com/safety?page='\n",
    "\n",
    "page_headings = []\n",
    "\n",
    "for page in tqdm(range(100)):\n",
    "\n",
    "    # Send a GET request to the website\n",
    "    response = requests.get(url+str(page))\n",
    "\n",
    "    # Parse the HTML content of the page with BeautifulSoup\n",
    "    soup = BeautifulSoup(response.text, 'html.parser')\n",
    "\n",
    "    # Find all headline elements\n",
    "    # You may need to inspect the website and update the tag and class accordingly\n",
    "    headlines = soup.find_all(['h2'])\n",
    "\n",
    "    page_headings.append(headlines)"
   ]
  },
  {
   "cell_type": "code",
   "execution_count": 10,
   "metadata": {},
   "outputs": [],
   "source": [
    "safety_headlines = []\n",
    "for headlines in page_headings:\n",
    "    for headline in headlines:\n",
    "        safety_headlines.append(headline.text.strip())"
   ]
  },
  {
   "cell_type": "code",
   "execution_count": 14,
   "metadata": {},
   "outputs": [],
   "source": [
    "safety_headlines = np.where(np.array(safety_headlines)!='Top Menu',safety_headlines,None)\n",
    "safety_headlines = np.where(np.array(safety_headlines)!='Footer menu',safety_headlines,None)\n",
    "safety = pd.DataFrame(safety_headlines,columns=[\"Headlines\"]).dropna()\n",
    "safety[\"Headlines\"] = safety[\"Headlines\"].apply(lambda a : None if a.count(\"Podcasts\")!=0 else a).dropna()\n",
    "safety.to_csv(\"Safety.csv\")"
   ]
  },
  {
   "cell_type": "code",
   "execution_count": 11,
   "metadata": {},
   "outputs": [
    {
     "name": "stderr",
     "output_type": "stream",
     "text": [
      "100%|██████████| 100/100 [00:41<00:00,  2.38it/s]\n"
     ]
    }
   ],
   "source": [
    "# Define the URL of the website\n",
    "url = 'https://www.ttnews.com/logistics?page='\n",
    "\n",
    "page_headings = []\n",
    "\n",
    "for page in tqdm(range(100)):\n",
    "\n",
    "    # Send a GET request to the website\n",
    "    response = requests.get(url+str(page))\n",
    "\n",
    "    # Parse the HTML content of the page with BeautifulSoup\n",
    "    soup = BeautifulSoup(response.text, 'html.parser')\n",
    "\n",
    "    # Find all headline elements\n",
    "    # You may need to inspect the website and update the tag and class accordingly\n",
    "    headlines = soup.find_all(['h2'])\n",
    "\n",
    "    page_headings.append(headlines)"
   ]
  },
  {
   "cell_type": "code",
   "execution_count": 3,
   "metadata": {},
   "outputs": [],
   "source": [
    "logistics_headlines = []\n",
    "for headlines in page_headings:\n",
    "    for headline in headlines:\n",
    "        logistics_headlines.append(headline.text.strip())"
   ]
  },
  {
   "cell_type": "code",
   "execution_count": 4,
   "metadata": {},
   "outputs": [],
   "source": [
    "logistics_headlines = np.where(np.array(logistics_headlines)!='Top Menu',logistics_headlines,None)\n",
    "logistics_headlines = np.where(np.array(logistics_headlines)!='Footer menu',logistics_headlines,None)\n",
    "logistics = pd.DataFrame(logistics_headlines,columns=[\"Headlines\"]).dropna()\n",
    "logistics[\"Headlines\"] = logistics[\"Headlines\"].apply(lambda a : None if a.count(\"Podcasts\")!=0 else a).dropna()\n",
    "logistics.to_csv(\"Logistics.csv\")"
   ]
  },
  {
   "cell_type": "code",
   "execution_count": null,
   "metadata": {},
   "outputs": [],
   "source": [
    "# Define the URL of the website\n",
    "url = 'https://www.ttnews.com/business?page='\n",
    "\n",
    "page_headings = []\n",
    "\n",
    "for page in tqdm(range(100)):\n",
    "\n",
    "    # Send a GET request to the website\n",
    "    response = requests.get(url+str(page))\n",
    "\n",
    "    # Parse the HTML content of the page with BeautifulSoup\n",
    "    soup = BeautifulSoup(response.text, 'html.parser')\n",
    "\n",
    "    # Find all headline elements\n",
    "    # You may need to inspect the website and update the tag and class accordingly\n",
    "    headlines = soup.find_all(['h2'])\n",
    "\n",
    "    page_headings.append(headlines)"
   ]
  },
  {
   "cell_type": "code",
   "execution_count": null,
   "metadata": {},
   "outputs": [],
   "source": [
    "business_headlines = []\n",
    "for headlines in page_headings:\n",
    "    for headline in headlines:\n",
    "        business_headlines.append(headline.text.strip())"
   ]
  },
  {
   "cell_type": "code",
   "execution_count": null,
   "metadata": {},
   "outputs": [],
   "source": [
    "business_headlines = np.where(np.array(business_headlines)!='Top Menu',business_headlines,None)\n",
    "business_headlines = np.where(np.array(business_headlines)!='Footer menu',business_headlines,None)\n",
    "business = pd.DataFrame(business_headlines,columns=[\"Headlines\"]).dropna()\n",
    "business[\"Headlines\"] = business[\"Headlines\"].apply(lambda a : None if a.count(\"Podcasts\")!=0 else a).dropna()\n",
    "business.to_csv(\"Business.csv\")"
   ]
  },
  {
   "cell_type": "code",
   "execution_count": null,
   "metadata": {},
   "outputs": [],
   "source": [
    "# Define the URL of the website\n",
    "url = 'https://www.ttnews.com/equipment?page='\n",
    "\n",
    "page_headings = []\n",
    "\n",
    "for page in tqdm(range(100)):\n",
    "\n",
    "    # Send a GET request to the website\n",
    "    response = requests.get(url+str(page))\n",
    "\n",
    "    # Parse the HTML content of the page with BeautifulSoup\n",
    "    soup = BeautifulSoup(response.text, 'html.parser')\n",
    "\n",
    "    # Find all headline elements\n",
    "    # You may need to inspect the website and update the tag and class accordingly\n",
    "    headlines = soup.find_all(['h2'])\n",
    "\n",
    "    page_headings.append(headlines)"
   ]
  },
  {
   "cell_type": "code",
   "execution_count": null,
   "metadata": {},
   "outputs": [],
   "source": [
    "equipment_headlines = []\n",
    "for headlines in page_headings:\n",
    "    for headline in headlines:\n",
    "        equipment_headlines.append(headline.text.strip())"
   ]
  },
  {
   "cell_type": "code",
   "execution_count": null,
   "metadata": {},
   "outputs": [],
   "source": [
    "equipment_headlines = np.where(np.array(equipment_headlines)!='Top Menu',equipment_headlines,None)\n",
    "equipment_headlines = np.where(np.array(equipment_headlines)!='Footer menu',equipment_headlines,None)\n",
    "equipment = pd.DataFrame(equipment_headlines,columns=[\"Headlines\"]).dropna()\n",
    "equipment[\"Headlines\"] = equipment[\"Headlines\"].apply(lambda a : None if a.count(\"Podcasts\")!=0 else a).dropna()\n",
    "equipment.to_csv(\"Equipment.csv\")"
   ]
  },
  {
   "cell_type": "code",
   "execution_count": null,
   "metadata": {},
   "outputs": [],
   "source": [
    "# Define the URL of the website\n",
    "url = 'https://www.ttnews.com/fuel?page='\n",
    "\n",
    "page_headings = []\n",
    "\n",
    "for page in tqdm(range(100)):\n",
    "\n",
    "    # Send a GET request to the website\n",
    "    response = requests.get(url+str(page))\n",
    "\n",
    "    # Parse the HTML content of the page with BeautifulSoup\n",
    "    soup = BeautifulSoup(response.text, 'html.parser')\n",
    "\n",
    "    # Find all headline elements\n",
    "    # You may need to inspect the website and update the tag and class accordingly\n",
    "    headlines = soup.find_all(['h2'])\n",
    "\n",
    "    page_headings.append(headlines)"
   ]
  },
  {
   "cell_type": "code",
   "execution_count": null,
   "metadata": {},
   "outputs": [],
   "source": [
    "fuel_headlines = []\n",
    "for headlines in page_headings:\n",
    "    for headline in headlines:\n",
    "        fuel_headlines.append(headline.text.strip())"
   ]
  },
  {
   "cell_type": "code",
   "execution_count": null,
   "metadata": {},
   "outputs": [],
   "source": [
    "fuel_headlines = np.where(np.array(fuel_headlines)!='Top Menu',fuel_headlines,None)\n",
    "fuel_headlines = np.where(np.array(fuel_headlines)!='Footer menu',fuel_headlines,None)\n",
    "fuel = pd.DataFrame(fuel_headlines,columns=[\"Headlines\"]).dropna()\n",
    "fuel[\"Headlines\"] = fuel[\"Headlines\"].apply(lambda a : None if a.count(\"Podcasts\")!=0 else a).dropna()\n",
    "fuel.to_csv(\"Fuel.csv\")"
   ]
  },
  {
   "cell_type": "code",
   "execution_count": null,
   "metadata": {},
   "outputs": [],
   "source": [
    "# Define the URL of the website\n",
    "url = 'https://www.ttnews.com/autonomous?page='\n",
    "\n",
    "page_headings = []\n",
    "\n",
    "for page in tqdm(range(100)):\n",
    "\n",
    "    # Send a GET request to the website\n",
    "    response = requests.get(url+str(page))\n",
    "\n",
    "    # Parse the HTML content of the page with BeautifulSoup\n",
    "    soup = BeautifulSoup(response.text, 'html.parser')\n",
    "\n",
    "    # Find all headline elements\n",
    "    # You may need to inspect the website and update the tag and class accordingly\n",
    "    headlines = soup.find_all(['h2'])\n",
    "\n",
    "    page_headings.append(headlines)"
   ]
  },
  {
   "cell_type": "code",
   "execution_count": null,
   "metadata": {},
   "outputs": [],
   "source": [
    "autonomous_headlines = []\n",
    "for headlines in page_headings:\n",
    "    for headline in headlines:\n",
    "        autonomous_headlines.append(headline.text.strip())"
   ]
  },
  {
   "cell_type": "code",
   "execution_count": null,
   "metadata": {},
   "outputs": [],
   "source": [
    "autonomous_headlines = np.where(np.array(autonomous_headlines)!='Top Menu',autonomous_headlines,None)\n",
    "autonomous_headlines = np.where(np.array(autonomous_headlines)!='Footer menu',autonomous_headlines,None)\n",
    "autonomous = pd.DataFrame(autonomous_headlines,columns=[\"Headlines\"]).dropna()\n",
    "autonomous[\"Headlines\"] = autonomous[\"Headlines\"].apply(lambda a : None if a.count(\"Podcasts\")!=0 else a).dropna()\n",
    "autonomous.to_csv(\"Autonomous.csv\")"
   ]
  }
 ],
 "metadata": {
  "kernelspec": {
   "display_name": "Python 3",
   "language": "python",
   "name": "python3"
  },
  "language_info": {
   "codemirror_mode": {
    "name": "ipython",
    "version": 3
   },
   "file_extension": ".py",
   "mimetype": "text/x-python",
   "name": "python",
   "nbconvert_exporter": "python",
   "pygments_lexer": "ipython3",
   "version": "3.9.12"
  }
 },
 "nbformat": 4,
 "nbformat_minor": 2
}
