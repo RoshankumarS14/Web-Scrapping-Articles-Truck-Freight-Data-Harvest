{
 "cells": [
  {
   "cell_type": "code",
   "execution_count": 2,
   "metadata": {},
   "outputs": [],
   "source": [
    "import requests\n",
    "from bs4 import BeautifulSoup\n",
    "import numpy as np\n",
    "import pandas as pd"
   ]
  },
  {
   "cell_type": "code",
   "execution_count": 3,
   "metadata": {},
   "outputs": [],
   "source": [
    "session = requests.Session()\n",
    "session.headers.update({'User-Agent': 'Your User-Agent Here'})\n",
    "response = session.get('https://www.freightwaves.com/driver-issues')\n",
    "soup = BeautifulSoup(response.text, 'html.parser')\n",
    "headlines = soup.find_all(['h2'])"
   ]
  },
  {
   "cell_type": "code",
   "execution_count": 11,
   "metadata": {},
   "outputs": [],
   "source": [
    "links = pd.Series([a[\"href\"] for a in soup.find_all(['a'],\"fw-block-post-item-blue\")]).drop_duplicates()[:6]"
   ]
  },
  {
   "cell_type": "code",
   "execution_count": 19,
   "metadata": {},
   "outputs": [],
   "source": [
    "driver_issues = []\n",
    "for headline in headlines:\n",
    "    driver_issues.append(headline.text.strip())"
   ]
  },
  {
   "cell_type": "code",
   "execution_count": 20,
   "metadata": {},
   "outputs": [
    {
     "data": {
      "text/html": [
       "<div>\n",
       "<style scoped>\n",
       "    .dataframe tbody tr th:only-of-type {\n",
       "        vertical-align: middle;\n",
       "    }\n",
       "\n",
       "    .dataframe tbody tr th {\n",
       "        vertical-align: top;\n",
       "    }\n",
       "\n",
       "    .dataframe thead th {\n",
       "        text-align: right;\n",
       "    }\n",
       "</style>\n",
       "<table border=\"1\" class=\"dataframe\">\n",
       "  <thead>\n",
       "    <tr style=\"text-align: right;\">\n",
       "      <th></th>\n",
       "      <th>Headlines</th>\n",
       "      <th>URL</th>\n",
       "    </tr>\n",
       "  </thead>\n",
       "  <tbody>\n",
       "    <tr>\n",
       "      <th>0</th>\n",
       "      <td>Monthly trucking employment report: Steady aft...</td>\n",
       "      <td>https://www.freightwaves.com/news/monthly-truc...</td>\n",
       "    </tr>\n",
       "    <tr>\n",
       "      <th>2</th>\n",
       "      <td>Sentencings in Louisiana staged truck accident...</td>\n",
       "      <td>https://www.freightwaves.com/news/sentencings-...</td>\n",
       "    </tr>\n",
       "    <tr>\n",
       "      <th>4</th>\n",
       "      <td>FMCSA issues policy on sexual assault among tr...</td>\n",
       "      <td>https://www.freightwaves.com/news/fmcsa-issues...</td>\n",
       "    </tr>\n",
       "    <tr>\n",
       "      <th>6</th>\n",
       "      <td>California trucking regulation flies under rad...</td>\n",
       "      <td>https://www.freightwaves.com/news/california-t...</td>\n",
       "    </tr>\n",
       "    <tr>\n",
       "      <th>8</th>\n",
       "      <td>Truck parking expansion money still elusive on...</td>\n",
       "      <td>https://www.freightwaves.com/news/truck-parkin...</td>\n",
       "    </tr>\n",
       "    <tr>\n",
       "      <th>10</th>\n",
       "      <td>Florida seeks help for truckers failing pre-tr...</td>\n",
       "      <td>https://www.freightwaves.com/news/florida-seek...</td>\n",
       "    </tr>\n",
       "  </tbody>\n",
       "</table>\n",
       "</div>"
      ],
      "text/plain": [
       "                                            Headlines  \\\n",
       "0   Monthly trucking employment report: Steady aft...   \n",
       "2   Sentencings in Louisiana staged truck accident...   \n",
       "4   FMCSA issues policy on sexual assault among tr...   \n",
       "6   California trucking regulation flies under rad...   \n",
       "8   Truck parking expansion money still elusive on...   \n",
       "10  Florida seeks help for truckers failing pre-tr...   \n",
       "\n",
       "                                                  URL  \n",
       "0   https://www.freightwaves.com/news/monthly-truc...  \n",
       "2   https://www.freightwaves.com/news/sentencings-...  \n",
       "4   https://www.freightwaves.com/news/fmcsa-issues...  \n",
       "6   https://www.freightwaves.com/news/california-t...  \n",
       "8   https://www.freightwaves.com/news/truck-parkin...  \n",
       "10  https://www.freightwaves.com/news/florida-seek...  "
      ]
     },
     "execution_count": 20,
     "metadata": {},
     "output_type": "execute_result"
    }
   ],
   "source": [
    "driver_issues = pd.DataFrame({\"Headlines\":driver_issues[1:7],\"URL\":links})\n",
    "driver_issues.to_csv(\"Driver Issues.csv\")\n",
    "driver_issues"
   ]
  },
  {
   "cell_type": "code",
   "execution_count": 21,
   "metadata": {},
   "outputs": [],
   "source": [
    "session = requests.Session()\n",
    "session.headers.update({'User-Agent': 'Your User-Agent Here'})\n",
    "response = session.get('https://www.freightwaves.com/recruiting-rundown')\n",
    "soup = BeautifulSoup(response.text, 'html.parser')\n",
    "headlines = soup.find_all(['h2'])\n",
    "links = pd.Series([a[\"href\"] for a in soup.find_all(['a'],\"fw-block-post-item-blue\")]).drop_duplicates()[:6]"
   ]
  },
  {
   "cell_type": "code",
   "execution_count": 22,
   "metadata": {},
   "outputs": [],
   "source": [
    "recruiting_rundown = []\n",
    "for headline in headlines:\n",
    "    recruiting_rundown.append(headline.text.strip())"
   ]
  },
  {
   "cell_type": "code",
   "execution_count": 46,
   "metadata": {},
   "outputs": [],
   "source": [
    "recruiting_rundown = pd.DataFrame(recruiting_rundown,columns=[\"Headlines\"])[1:]\n",
    "recruiting_rundown.to_csv(\"Recruiting Rundown.csv\")"
   ]
  },
  {
   "cell_type": "code",
   "execution_count": 47,
   "metadata": {},
   "outputs": [],
   "source": [
    "session = requests.Session()\n",
    "session.headers.update({'User-Agent': 'Your User-Agent Here'})\n",
    "response = session.get('https://www.freightwaves.com/smart-capacity')\n",
    "soup = BeautifulSoup(response.text, 'html.parser')\n",
    "headlines = soup.find_all(['h2'])"
   ]
  },
  {
   "cell_type": "code",
   "execution_count": 48,
   "metadata": {},
   "outputs": [],
   "source": [
    "smart_capacity = []\n",
    "for headline in headlines:\n",
    "    smart_capacity.append(headline.text.strip())"
   ]
  },
  {
   "cell_type": "code",
   "execution_count": 50,
   "metadata": {},
   "outputs": [],
   "source": [
    "smart_capacity = pd.DataFrame(smart_capacity,columns=[\"Headlines\"])[1:]\n",
    "smart_capacity.to_csv(\"Smart Capacity.csv\")"
   ]
  },
  {
   "cell_type": "code",
   "execution_count": 51,
   "metadata": {},
   "outputs": [],
   "source": [
    "session = requests.Session()\n",
    "session.headers.update({'User-Agent': 'Your User-Agent Here'})\n",
    "response = session.get('https://www.freightwaves.com/news/category/news/insight/freight-all-kinds')\n",
    "soup = BeautifulSoup(response.text, 'html.parser')\n",
    "headlines = soup.find_all(['h2'])"
   ]
  },
  {
   "cell_type": "code",
   "execution_count": 55,
   "metadata": {},
   "outputs": [],
   "source": [
    "freight_all_kinds = []\n",
    "for headline in headlines:\n",
    "    freight_all_kinds.append(headline.text.strip())"
   ]
  },
  {
   "cell_type": "code",
   "execution_count": 56,
   "metadata": {},
   "outputs": [],
   "source": [
    "freight_all_kinds = pd.DataFrame(freight_all_kinds,columns=[\"Headlines\"])\n",
    "freight_all_kinds.to_csv(\"Freight all kinds.csv\")"
   ]
  },
  {
   "cell_type": "code",
   "execution_count": 62,
   "metadata": {},
   "outputs": [],
   "source": [
    "session = requests.Session()\n",
    "session.headers.update({'User-Agent': 'Your User-Agent Here'})\n",
    "response = session.get('https://www.freightwaves.com/news/category/logistics-supply-chains')\n",
    "soup = BeautifulSoup(response.text, 'html.parser')\n",
    "headlines = soup.find_all(['h2'])"
   ]
  },
  {
   "cell_type": "code",
   "execution_count": 63,
   "metadata": {},
   "outputs": [],
   "source": [
    "logistics_supply_chains = []\n",
    "for headline in headlines:\n",
    "    logistics_supply_chains.append(headline.text.strip())"
   ]
  },
  {
   "cell_type": "code",
   "execution_count": 64,
   "metadata": {},
   "outputs": [],
   "source": [
    "logistics_supply_chains = pd.DataFrame(logistics_supply_chains,columns=[\"Headlines\"])\n",
    "logistics_supply_chains.to_csv(\"Logistics supply chains.csv\")"
   ]
  },
  {
   "cell_type": "code",
   "execution_count": 66,
   "metadata": {},
   "outputs": [],
   "source": [
    "session = requests.Session()\n",
    "session.headers.update({'User-Agent': 'Your User-Agent Here'})\n",
    "response = session.get('https://www.freightwaves.com/truckload')\n",
    "soup = BeautifulSoup(response.text, 'html.parser')\n",
    "headlines = soup.find_all(['h2'])"
   ]
  },
  {
   "cell_type": "code",
   "execution_count": 67,
   "metadata": {},
   "outputs": [],
   "source": [
    "truck_load = []\n",
    "for headline in headlines:\n",
    "    truck_load.append(headline.text.strip())"
   ]
  },
  {
   "cell_type": "code",
   "execution_count": null,
   "metadata": {},
   "outputs": [],
   "source": [
    "truck_load = pd.DataFrame(truck_load,columns=[\"Headlines\"])\n",
    "truck_load.to_csv(\"Truck Load.csv\")"
   ]
  },
  {
   "cell_type": "code",
   "execution_count": 71,
   "metadata": {},
   "outputs": [],
   "source": [
    "session = requests.Session()\n",
    "session.headers.update({'User-Agent': 'Your User-Agent Here'})\n",
    "response = session.get('https://www.freightwaves.com/news/tag/state-of-freight-insights')\n",
    "soup = BeautifulSoup(response.text, 'html.parser')\n",
    "headlines = soup.find_all(['h2'])"
   ]
  },
  {
   "cell_type": "code",
   "execution_count": 72,
   "metadata": {},
   "outputs": [],
   "source": [
    "state_of_freight_insights = []\n",
    "for headline in headlines:\n",
    "    state_of_freight_insights.append(headline.text.strip())"
   ]
  },
  {
   "cell_type": "code",
   "execution_count": 73,
   "metadata": {},
   "outputs": [],
   "source": [
    "state_of_freight_insights = pd.DataFrame(state_of_freight_insights,columns=[\"Headlines\"])\n",
    "state_of_freight_insights.to_csv(\"State of freight insights.csv\")"
   ]
  },
  {
   "cell_type": "code",
   "execution_count": 74,
   "metadata": {},
   "outputs": [
    {
     "data": {
      "text/html": [
       "<div>\n",
       "<style scoped>\n",
       "    .dataframe tbody tr th:only-of-type {\n",
       "        vertical-align: middle;\n",
       "    }\n",
       "\n",
       "    .dataframe tbody tr th {\n",
       "        vertical-align: top;\n",
       "    }\n",
       "\n",
       "    .dataframe thead th {\n",
       "        text-align: right;\n",
       "    }\n",
       "</style>\n",
       "<table border=\"1\" class=\"dataframe\">\n",
       "  <thead>\n",
       "    <tr style=\"text-align: right;\">\n",
       "      <th></th>\n",
       "      <th>Headlines</th>\n",
       "    </tr>\n",
       "  </thead>\n",
       "  <tbody>\n",
       "    <tr>\n",
       "      <th>0</th>\n",
       "      <td>Webinar – State of Freight: A First Look at 2024</td>\n",
       "    </tr>\n",
       "    <tr>\n",
       "      <th>1</th>\n",
       "      <td>White Paper: The State of Freight – November 2023</td>\n",
       "    </tr>\n",
       "    <tr>\n",
       "      <th>2</th>\n",
       "      <td>Webinar – State of Freight: Live from F3</td>\n",
       "    </tr>\n",
       "    <tr>\n",
       "      <th>3</th>\n",
       "      <td>White Paper: The State of Freight – October 2023</td>\n",
       "    </tr>\n",
       "    <tr>\n",
       "      <th>4</th>\n",
       "      <td>State of Freight takeaways: From the floor of ...</td>\n",
       "    </tr>\n",
       "    <tr>\n",
       "      <th>5</th>\n",
       "      <td>Webinar – State of Freight: Is the Freight Mar...</td>\n",
       "    </tr>\n",
       "    <tr>\n",
       "      <th>6</th>\n",
       "      <td>White Paper: The State of Freight – September ...</td>\n",
       "    </tr>\n",
       "    <tr>\n",
       "      <th>7</th>\n",
       "      <td>State of Freight takeaways: Low rates, low OTR...</td>\n",
       "    </tr>\n",
       "    <tr>\n",
       "      <th>8</th>\n",
       "      <td>Webinar – State of Freight: Peak Season Outlook</td>\n",
       "    </tr>\n",
       "    <tr>\n",
       "      <th>9</th>\n",
       "      <td>Takeaways from State of Freight: A surprising ...</td>\n",
       "    </tr>\n",
       "    <tr>\n",
       "      <th>10</th>\n",
       "      <td>Webinar – The State of Freight: Analyzing the ...</td>\n",
       "    </tr>\n",
       "    <tr>\n",
       "      <th>11</th>\n",
       "      <td>White Paper: The State of Freight – July 2023</td>\n",
       "    </tr>\n",
       "    <tr>\n",
       "      <th>12</th>\n",
       "      <td>The State of Freight: 5 takeaways on Yellow’s ...</td>\n",
       "    </tr>\n",
       "    <tr>\n",
       "      <th>13</th>\n",
       "      <td>Webinar – The State of Freight: The Impact of ...</td>\n",
       "    </tr>\n",
       "    <tr>\n",
       "      <th>14</th>\n",
       "      <td>White Paper: The State of Freight – May 2023</td>\n",
       "    </tr>\n",
       "    <tr>\n",
       "      <th>15</th>\n",
       "      <td>Loaded and Rolling: No signs of 2nd-half freig...</td>\n",
       "    </tr>\n",
       "    <tr>\n",
       "      <th>16</th>\n",
       "      <td>‘State of Freight’ for May: No signs of 2nd-ha...</td>\n",
       "    </tr>\n",
       "    <tr>\n",
       "      <th>17</th>\n",
       "      <td>White Paper: The State of Freight – April 2023</td>\n",
       "    </tr>\n",
       "    <tr>\n",
       "      <th>18</th>\n",
       "      <td>The State of Freight Webinar: Is Seasonal Dema...</td>\n",
       "    </tr>\n",
       "    <tr>\n",
       "      <th>19</th>\n",
       "      <td>The State of Freight Webinar: Market Expectati...</td>\n",
       "    </tr>\n",
       "    <tr>\n",
       "      <th>20</th>\n",
       "      <td>White Paper: The State of Freight – March 2023</td>\n",
       "    </tr>\n",
       "    <tr>\n",
       "      <th>21</th>\n",
       "      <td>‘State of Freight’ for March: Bullish sign ami...</td>\n",
       "    </tr>\n",
       "    <tr>\n",
       "      <th>22</th>\n",
       "      <td>The State of Freight Webinar: Challenges &amp; Opp...</td>\n",
       "    </tr>\n",
       "    <tr>\n",
       "      <th>23</th>\n",
       "      <td>The State of Freight Webinar: Preparing for Ma...</td>\n",
       "    </tr>\n",
       "    <tr>\n",
       "      <th>24</th>\n",
       "      <td>The State of Freight Webinar: Navigating Q1 Wi...</td>\n",
       "    </tr>\n",
       "  </tbody>\n",
       "</table>\n",
       "</div>"
      ],
      "text/plain": [
       "                                            Headlines\n",
       "0    Webinar – State of Freight: A First Look at 2024\n",
       "1   White Paper: The State of Freight – November 2023\n",
       "2            Webinar – State of Freight: Live from F3\n",
       "3    White Paper: The State of Freight – October 2023\n",
       "4   State of Freight takeaways: From the floor of ...\n",
       "5   Webinar – State of Freight: Is the Freight Mar...\n",
       "6   White Paper: The State of Freight – September ...\n",
       "7   State of Freight takeaways: Low rates, low OTR...\n",
       "8     Webinar – State of Freight: Peak Season Outlook\n",
       "9   Takeaways from State of Freight: A surprising ...\n",
       "10  Webinar – The State of Freight: Analyzing the ...\n",
       "11      White Paper: The State of Freight – July 2023\n",
       "12  The State of Freight: 5 takeaways on Yellow’s ...\n",
       "13  Webinar – The State of Freight: The Impact of ...\n",
       "14       White Paper: The State of Freight – May 2023\n",
       "15  Loaded and Rolling: No signs of 2nd-half freig...\n",
       "16  ‘State of Freight’ for May: No signs of 2nd-ha...\n",
       "17     White Paper: The State of Freight – April 2023\n",
       "18  The State of Freight Webinar: Is Seasonal Dema...\n",
       "19  The State of Freight Webinar: Market Expectati...\n",
       "20     White Paper: The State of Freight – March 2023\n",
       "21  ‘State of Freight’ for March: Bullish sign ami...\n",
       "22  The State of Freight Webinar: Challenges & Opp...\n",
       "23  The State of Freight Webinar: Preparing for Ma...\n",
       "24  The State of Freight Webinar: Navigating Q1 Wi..."
      ]
     },
     "execution_count": 74,
     "metadata": {},
     "output_type": "execute_result"
    }
   ],
   "source": [
    "state_of_freight_insights"
   ]
  },
  {
   "cell_type": "code",
   "execution_count": 12,
   "metadata": {},
   "outputs": [
    {
     "ename": "HTTPError",
     "evalue": "HTTP Error 403: Forbidden",
     "output_type": "error",
     "traceback": [
      "\u001b[1;31m---------------------------------------------------------------------------\u001b[0m",
      "\u001b[1;31mHTTPError\u001b[0m                                 Traceback (most recent call last)",
      "\u001b[1;32md:\\Freelancing\\Webscrapping websites\\Web scrapping.ipynb Cell 1\u001b[0m line \u001b[0;36m<cell line: 8>\u001b[1;34m()\u001b[0m\n\u001b[0;32m      <a href='vscode-notebook-cell:/d%3A/Freelancing/Webscrapping%20websites/Web%20scrapping.ipynb#W4sZmlsZQ%3D%3D?line=4'>5</a>\u001b[0m headers \u001b[39m=\u001b[39m {\u001b[39m'\u001b[39m\u001b[39mUser-Agent\u001b[39m\u001b[39m'\u001b[39m: \u001b[39m'\u001b[39m\u001b[39mMozilla/5.0 (X11; Ubuntu; Linux x86_64; rv:80.0) Gecko/20100101 Firefox/80.0\u001b[39m\u001b[39m'\u001b[39m}\n\u001b[0;32m      <a href='vscode-notebook-cell:/d%3A/Freelancing/Webscrapping%20websites/Web%20scrapping.ipynb#W4sZmlsZQ%3D%3D?line=6'>7</a>\u001b[0m req \u001b[39m=\u001b[39m urllib\u001b[39m.\u001b[39mrequest\u001b[39m.\u001b[39mRequest(url, headers\u001b[39m=\u001b[39mheaders)\n\u001b[1;32m----> <a href='vscode-notebook-cell:/d%3A/Freelancing/Webscrapping%20websites/Web%20scrapping.ipynb#W4sZmlsZQ%3D%3D?line=7'>8</a>\u001b[0m response \u001b[39m=\u001b[39m urllib\u001b[39m.\u001b[39;49mrequest\u001b[39m.\u001b[39;49murlopen(req)\n\u001b[0;32m      <a href='vscode-notebook-cell:/d%3A/Freelancing/Webscrapping%20websites/Web%20scrapping.ipynb#W4sZmlsZQ%3D%3D?line=8'>9</a>\u001b[0m soup \u001b[39m=\u001b[39m bs(response\u001b[39m.\u001b[39mread(), \u001b[39m'\u001b[39m\u001b[39mhtml.parser\u001b[39m\u001b[39m'\u001b[39m)\n\u001b[0;32m     <a href='vscode-notebook-cell:/d%3A/Freelancing/Webscrapping%20websites/Web%20scrapping.ipynb#W4sZmlsZQ%3D%3D?line=9'>10</a>\u001b[0m \u001b[39mprint\u001b[39m(soup\u001b[39m.\u001b[39mprettify())\n",
      "File \u001b[1;32md:\\PGP-DSE\\Python\\Anaconda\\lib\\urllib\\request.py:214\u001b[0m, in \u001b[0;36murlopen\u001b[1;34m(url, data, timeout, cafile, capath, cadefault, context)\u001b[0m\n\u001b[0;32m    212\u001b[0m \u001b[39melse\u001b[39;00m:\n\u001b[0;32m    213\u001b[0m     opener \u001b[39m=\u001b[39m _opener\n\u001b[1;32m--> 214\u001b[0m \u001b[39mreturn\u001b[39;00m opener\u001b[39m.\u001b[39;49mopen(url, data, timeout)\n",
      "File \u001b[1;32md:\\PGP-DSE\\Python\\Anaconda\\lib\\urllib\\request.py:523\u001b[0m, in \u001b[0;36mOpenerDirector.open\u001b[1;34m(self, fullurl, data, timeout)\u001b[0m\n\u001b[0;32m    521\u001b[0m \u001b[39mfor\u001b[39;00m processor \u001b[39min\u001b[39;00m \u001b[39mself\u001b[39m\u001b[39m.\u001b[39mprocess_response\u001b[39m.\u001b[39mget(protocol, []):\n\u001b[0;32m    522\u001b[0m     meth \u001b[39m=\u001b[39m \u001b[39mgetattr\u001b[39m(processor, meth_name)\n\u001b[1;32m--> 523\u001b[0m     response \u001b[39m=\u001b[39m meth(req, response)\n\u001b[0;32m    525\u001b[0m \u001b[39mreturn\u001b[39;00m response\n",
      "File \u001b[1;32md:\\PGP-DSE\\Python\\Anaconda\\lib\\urllib\\request.py:632\u001b[0m, in \u001b[0;36mHTTPErrorProcessor.http_response\u001b[1;34m(self, request, response)\u001b[0m\n\u001b[0;32m    629\u001b[0m \u001b[39m# According to RFC 2616, \"2xx\" code indicates that the client's\u001b[39;00m\n\u001b[0;32m    630\u001b[0m \u001b[39m# request was successfully received, understood, and accepted.\u001b[39;00m\n\u001b[0;32m    631\u001b[0m \u001b[39mif\u001b[39;00m \u001b[39mnot\u001b[39;00m (\u001b[39m200\u001b[39m \u001b[39m<\u001b[39m\u001b[39m=\u001b[39m code \u001b[39m<\u001b[39m \u001b[39m300\u001b[39m):\n\u001b[1;32m--> 632\u001b[0m     response \u001b[39m=\u001b[39m \u001b[39mself\u001b[39;49m\u001b[39m.\u001b[39;49mparent\u001b[39m.\u001b[39;49merror(\n\u001b[0;32m    633\u001b[0m         \u001b[39m'\u001b[39;49m\u001b[39mhttp\u001b[39;49m\u001b[39m'\u001b[39;49m, request, response, code, msg, hdrs)\n\u001b[0;32m    635\u001b[0m \u001b[39mreturn\u001b[39;00m response\n",
      "File \u001b[1;32md:\\PGP-DSE\\Python\\Anaconda\\lib\\urllib\\request.py:561\u001b[0m, in \u001b[0;36mOpenerDirector.error\u001b[1;34m(self, proto, *args)\u001b[0m\n\u001b[0;32m    559\u001b[0m \u001b[39mif\u001b[39;00m http_err:\n\u001b[0;32m    560\u001b[0m     args \u001b[39m=\u001b[39m (\u001b[39mdict\u001b[39m, \u001b[39m'\u001b[39m\u001b[39mdefault\u001b[39m\u001b[39m'\u001b[39m, \u001b[39m'\u001b[39m\u001b[39mhttp_error_default\u001b[39m\u001b[39m'\u001b[39m) \u001b[39m+\u001b[39m orig_args\n\u001b[1;32m--> 561\u001b[0m     \u001b[39mreturn\u001b[39;00m \u001b[39mself\u001b[39;49m\u001b[39m.\u001b[39;49m_call_chain(\u001b[39m*\u001b[39;49margs)\n",
      "File \u001b[1;32md:\\PGP-DSE\\Python\\Anaconda\\lib\\urllib\\request.py:494\u001b[0m, in \u001b[0;36mOpenerDirector._call_chain\u001b[1;34m(self, chain, kind, meth_name, *args)\u001b[0m\n\u001b[0;32m    492\u001b[0m \u001b[39mfor\u001b[39;00m handler \u001b[39min\u001b[39;00m handlers:\n\u001b[0;32m    493\u001b[0m     func \u001b[39m=\u001b[39m \u001b[39mgetattr\u001b[39m(handler, meth_name)\n\u001b[1;32m--> 494\u001b[0m     result \u001b[39m=\u001b[39m func(\u001b[39m*\u001b[39;49margs)\n\u001b[0;32m    495\u001b[0m     \u001b[39mif\u001b[39;00m result \u001b[39mis\u001b[39;00m \u001b[39mnot\u001b[39;00m \u001b[39mNone\u001b[39;00m:\n\u001b[0;32m    496\u001b[0m         \u001b[39mreturn\u001b[39;00m result\n",
      "File \u001b[1;32md:\\PGP-DSE\\Python\\Anaconda\\lib\\urllib\\request.py:641\u001b[0m, in \u001b[0;36mHTTPDefaultErrorHandler.http_error_default\u001b[1;34m(self, req, fp, code, msg, hdrs)\u001b[0m\n\u001b[0;32m    640\u001b[0m \u001b[39mdef\u001b[39;00m \u001b[39mhttp_error_default\u001b[39m(\u001b[39mself\u001b[39m, req, fp, code, msg, hdrs):\n\u001b[1;32m--> 641\u001b[0m     \u001b[39mraise\u001b[39;00m HTTPError(req\u001b[39m.\u001b[39mfull_url, code, msg, hdrs, fp)\n",
      "\u001b[1;31mHTTPError\u001b[0m: HTTP Error 403: Forbidden"
     ]
    }
   ],
   "source": [
    "import urllib.request\n",
    "from bs4 import BeautifulSoup as bs\n",
    "\n",
    "url = \"https://www.truckersnews.com/\"\n",
    "headers = {'User-Agent': 'Mozilla/5.0 (X11; Ubuntu; Linux x86_64; rv:80.0) Gecko/20100101 Firefox/80.0'}\n",
    "\n",
    "req = urllib.request.Request(url, headers=headers)\n",
    "response = urllib.request.urlopen(req)\n",
    "soup = bs(response.read(), 'html.parser')\n",
    "print(soup.prettify())"
   ]
  }
 ],
 "metadata": {
  "kernelspec": {
   "display_name": "Python 3",
   "language": "python",
   "name": "python3"
  },
  "language_info": {
   "codemirror_mode": {
    "name": "ipython",
    "version": 3
   },
   "file_extension": ".py",
   "mimetype": "text/x-python",
   "name": "python",
   "nbconvert_exporter": "python",
   "pygments_lexer": "ipython3",
   "version": "3.9.12"
  }
 },
 "nbformat": 4,
 "nbformat_minor": 2
}
